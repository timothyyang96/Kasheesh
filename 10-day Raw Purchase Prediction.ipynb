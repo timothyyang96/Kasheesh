{
 "cells": [
  {
   "cell_type": "code",
   "execution_count": 27,
   "id": "f4dd8c6e",
   "metadata": {},
   "outputs": [],
   "source": [
    "import pandas as pd\n",
    "from statsmodels.tsa.arima.model import ARIMA\n",
    "import matplotlib.pyplot as plt\n",
    "from sklearn.metrics import mean_squared_error\n",
    "from sklearn.model_selection import train_test_split\n",
    "import itertools\n",
    "import numpy as np\n",
    "import statsmodels.api as sm\n",
    "from math import sqrt"
   ]
  },
  {
   "cell_type": "code",
   "execution_count": 2,
   "id": "bd7f3811",
   "metadata": {},
   "outputs": [
    {
     "name": "stdout",
     "output_type": "stream",
     "text": [
      "<class 'pandas.core.frame.DataFrame'>\n",
      "RangeIndex: 500 entries, 0 to 499\n",
      "Data columns (total 5 columns):\n",
      " #   Column              Non-Null Count  Dtype \n",
      "---  ------              --------------  ----- \n",
      " 0   user_id             500 non-null    int64 \n",
      " 1   transaction_type    500 non-null    object\n",
      " 2   merchant_type_code  500 non-null    int64 \n",
      " 3   amount_cents        500 non-null    int64 \n",
      " 4   datetime            500 non-null    object\n",
      "dtypes: int64(3), object(2)\n",
      "memory usage: 19.7+ KB\n"
     ]
    }
   ],
   "source": [
    "df = pd.read_csv('combined_transactions.csv')\n",
    "df.info()"
   ]
  },
  {
   "cell_type": "code",
   "execution_count": 3,
   "id": "2f67959b",
   "metadata": {},
   "outputs": [],
   "source": [
    "df['amount_in_dollars'] = (df['amount_cents'] / 100).astype(int)\n",
    "df['datetime'] = pd.to_datetime(df['datetime'], format='ISO8601')"
   ]
  },
  {
   "cell_type": "code",
   "execution_count": 4,
   "id": "a8700592",
   "metadata": {},
   "outputs": [
    {
     "data": {
      "text/html": [
       "<div>\n",
       "<style scoped>\n",
       "    .dataframe tbody tr th:only-of-type {\n",
       "        vertical-align: middle;\n",
       "    }\n",
       "\n",
       "    .dataframe tbody tr th {\n",
       "        vertical-align: top;\n",
       "    }\n",
       "\n",
       "    .dataframe thead th {\n",
       "        text-align: right;\n",
       "    }\n",
       "</style>\n",
       "<table border=\"1\" class=\"dataframe\">\n",
       "  <thead>\n",
       "    <tr style=\"text-align: right;\">\n",
       "      <th></th>\n",
       "      <th>user_id</th>\n",
       "      <th>transaction_type</th>\n",
       "      <th>merchant_type_code</th>\n",
       "      <th>amount_cents</th>\n",
       "      <th>amount_in_dollars</th>\n",
       "    </tr>\n",
       "    <tr>\n",
       "      <th>datetime</th>\n",
       "      <th></th>\n",
       "      <th></th>\n",
       "      <th></th>\n",
       "      <th></th>\n",
       "      <th></th>\n",
       "    </tr>\n",
       "  </thead>\n",
       "  <tbody>\n",
       "    <tr>\n",
       "      <th>2023-03-14 11:57:58.383429</th>\n",
       "      <td>38493</td>\n",
       "      <td>PurchaseActivity</td>\n",
       "      <td>5732</td>\n",
       "      <td>4997</td>\n",
       "      <td>49</td>\n",
       "    </tr>\n",
       "    <tr>\n",
       "      <th>2023-03-14 12:11:14.747943</th>\n",
       "      <td>38493</td>\n",
       "      <td>PurchaseActivity</td>\n",
       "      <td>5732</td>\n",
       "      <td>9997</td>\n",
       "      <td>99</td>\n",
       "    </tr>\n",
       "    <tr>\n",
       "      <th>2023-03-14 12:10:34.933301</th>\n",
       "      <td>38493</td>\n",
       "      <td>PurchaseActivity</td>\n",
       "      <td>5732</td>\n",
       "      <td>9997</td>\n",
       "      <td>99</td>\n",
       "    </tr>\n",
       "    <tr>\n",
       "      <th>2023-03-15 11:48:12.613658</th>\n",
       "      <td>38493</td>\n",
       "      <td>PurchaseActivity</td>\n",
       "      <td>5732</td>\n",
       "      <td>1782</td>\n",
       "      <td>17</td>\n",
       "    </tr>\n",
       "    <tr>\n",
       "      <th>2023-03-15 11:54:24.734705</th>\n",
       "      <td>38493</td>\n",
       "      <td>PurchaseActivity</td>\n",
       "      <td>5732</td>\n",
       "      <td>6782</td>\n",
       "      <td>67</td>\n",
       "    </tr>\n",
       "  </tbody>\n",
       "</table>\n",
       "</div>"
      ],
      "text/plain": [
       "                            user_id  transaction_type  merchant_type_code  \\\n",
       "datetime                                                                    \n",
       "2023-03-14 11:57:58.383429    38493  PurchaseActivity                5732   \n",
       "2023-03-14 12:11:14.747943    38493  PurchaseActivity                5732   \n",
       "2023-03-14 12:10:34.933301    38493  PurchaseActivity                5732   \n",
       "2023-03-15 11:48:12.613658    38493  PurchaseActivity                5732   \n",
       "2023-03-15 11:54:24.734705    38493  PurchaseActivity                5732   \n",
       "\n",
       "                            amount_cents  amount_in_dollars  \n",
       "datetime                                                     \n",
       "2023-03-14 11:57:58.383429          4997                 49  \n",
       "2023-03-14 12:11:14.747943          9997                 99  \n",
       "2023-03-14 12:10:34.933301          9997                 99  \n",
       "2023-03-15 11:48:12.613658          1782                 17  \n",
       "2023-03-15 11:54:24.734705          6782                 67  "
      ]
     },
     "execution_count": 4,
     "metadata": {},
     "output_type": "execute_result"
    }
   ],
   "source": [
    "purchase5732 = df[(df['transaction_type'] == 'PurchaseActivity') & (df['merchant_type_code'] == 5732)]\n",
    "purchase5732.set_index('datetime', inplace=True)\n",
    "purchase5732.head()"
   ]
  },
  {
   "cell_type": "code",
   "execution_count": 6,
   "id": "b749805b",
   "metadata": {},
   "outputs": [
    {
     "data": {
      "text/plain": [
       "datetime\n",
       "2023-03-14     247\n",
       "2023-03-15    3896\n",
       "2023-03-16    8032\n",
       "2023-03-17    1078\n",
       "2023-03-18       0\n",
       "Freq: D, Name: amount_in_dollars, dtype: int64"
      ]
     },
     "execution_count": 6,
     "metadata": {},
     "output_type": "execute_result"
    }
   ],
   "source": [
    "daily_data = purchase5732['amount_in_dollars'].resample('D').sum()\n",
    "daily_data.head()"
   ]
  },
  {
   "cell_type": "code",
   "execution_count": 8,
   "id": "5821cd0d",
   "metadata": {},
   "outputs": [],
   "source": [
    "model = ARIMA(daily_data, order=(1, 0, 0))\n",
    "result = model.fit()"
   ]
  },
  {
   "cell_type": "code",
   "execution_count": 11,
   "id": "d4711b3c",
   "metadata": {},
   "outputs": [
    {
     "name": "stdout",
     "output_type": "stream",
     "text": [
      "2023-06-01    1001.414782\n",
      "2023-06-02     604.304739\n",
      "2023-06-03     476.157265\n",
      "2023-06-04     434.804056\n",
      "2023-06-05     421.459368\n",
      "2023-06-06     417.153036\n",
      "2023-06-07     415.763382\n",
      "2023-06-08     415.314940\n",
      "2023-06-09     415.170228\n",
      "2023-06-10     415.123529\n",
      "Freq: D, Name: predicted_mean, dtype: float64\n"
     ]
    }
   ],
   "source": [
    "prediction = result.forecast(steps=10)\n",
    "print(prediction)"
   ]
  },
  {
   "cell_type": "code",
   "execution_count": 12,
   "id": "73401f65",
   "metadata": {},
   "outputs": [
    {
     "data": {
      "image/png": "[encoded data removed]",
      "text/plain": [
       "<Figure size 640x480 with 1 Axes>"
      ]
     },
     "metadata": {},
     "output_type": "display_data"
    }
   ],
   "source": [
    "# Plot the original data and the prediction\n",
    "plt.plot(daily_data, label='Original data')\n",
    "plt.plot(prediction, label='10-day prediction')\n",
    "plt.legend()\n",
    "plt.show()"
   ]
  },
  {
   "cell_type": "markdown",
   "id": "ad3c76e4",
   "metadata": {},
   "source": [
    "### Cross-validation"
   ]
  },
  {
   "cell_type": "code",
   "execution_count": 14,
   "id": "3d34f771",
   "metadata": {},
   "outputs": [
    {
     "data": {
      "text/html": [
       "<div>\n",
       "<style scoped>\n",
       "    .dataframe tbody tr th:only-of-type {\n",
       "        vertical-align: middle;\n",
       "    }\n",
       "\n",
       "    .dataframe tbody tr th {\n",
       "        vertical-align: top;\n",
       "    }\n",
       "\n",
       "    .dataframe thead th {\n",
       "        text-align: right;\n",
       "    }\n",
       "</style>\n",
       "<table border=\"1\" class=\"dataframe\">\n",
       "  <thead>\n",
       "    <tr style=\"text-align: right;\">\n",
       "      <th></th>\n",
       "      <th>amount_in_dollars</th>\n",
       "    </tr>\n",
       "    <tr>\n",
       "      <th>datetime</th>\n",
       "      <th></th>\n",
       "    </tr>\n",
       "  </thead>\n",
       "  <tbody>\n",
       "    <tr>\n",
       "      <th>2023-03-14</th>\n",
       "      <td>247</td>\n",
       "    </tr>\n",
       "    <tr>\n",
       "      <th>2023-03-15</th>\n",
       "      <td>3896</td>\n",
       "    </tr>\n",
       "    <tr>\n",
       "      <th>2023-03-16</th>\n",
       "      <td>8032</td>\n",
       "    </tr>\n",
       "    <tr>\n",
       "      <th>2023-03-17</th>\n",
       "      <td>1078</td>\n",
       "    </tr>\n",
       "    <tr>\n",
       "      <th>2023-03-18</th>\n",
       "      <td>0</td>\n",
       "    </tr>\n",
       "  </tbody>\n",
       "</table>\n",
       "</div>"
      ],
      "text/plain": [
       "            amount_in_dollars\n",
       "datetime                     \n",
       "2023-03-14                247\n",
       "2023-03-15               3896\n",
       "2023-03-16               8032\n",
       "2023-03-17               1078\n",
       "2023-03-18                  0"
      ]
     },
     "execution_count": 14,
     "metadata": {},
     "output_type": "execute_result"
    }
   ],
   "source": [
    "df_daily_data = pd.DataFrame(daily_data)\n",
    "df_daily_data.head()"
   ]
  },
  {
   "cell_type": "code",
   "execution_count": 20,
   "id": "83143cfa",
   "metadata": {},
   "outputs": [],
   "source": [
    "# Assuming df_daily_data is your DataFrame\n",
    "train_size = int(len(df_daily_data) * 0.8)\n",
    "train, test = df_daily_data[0:train_size], df_daily_data[train_size:len(df_daily_data)]\n",
    "\n",
    "model_train = ARIMA(train, order=(1, 0, 0))\n",
    "result_train = model_train.fit()\n",
    "y_pred = result_train.predict(start=len(train), end=len(train)+len(test)-1)"
   ]
  },
  {
   "cell_type": "code",
   "execution_count": 21,
   "id": "b2365c60",
   "metadata": {},
   "outputs": [
    {
     "name": "stdout",
     "output_type": "stream",
     "text": [
      "392.92492152896574\n"
     ]
    }
   ],
   "source": [
    "rmse = mean_squared_error(y_test, y_pred, squared=False)\n",
    "print(rmse)"
   ]
  },
  {
   "cell_type": "markdown",
   "id": "99fd2f41",
   "metadata": {},
   "source": [
    "### Parameter Tuning"
   ]
  },
  {
   "cell_type": "code",
   "execution_count": 23,
   "id": "e0820f39",
   "metadata": {},
   "outputs": [
    {
     "name": "stderr",
     "output_type": "stream",
     "text": [
      "/Users/yyy/anaconda3/lib/python3.10/site-packages/statsmodels/tsa/statespace/sarimax.py:978: UserWarning: Non-invertible starting MA parameters found. Using zeros as starting parameters.\n",
      "  warn('Non-invertible starting MA parameters found.'\n",
      "/Users/yyy/anaconda3/lib/python3.10/site-packages/statsmodels/tsa/statespace/sarimax.py:978: UserWarning: Non-invertible starting MA parameters found. Using zeros as starting parameters.\n",
      "  warn('Non-invertible starting MA parameters found.'\n",
      "/Users/yyy/anaconda3/lib/python3.10/site-packages/statsmodels/base/model.py:607: ConvergenceWarning: Maximum Likelihood optimization failed to converge. Check mle_retvals\n",
      "  warnings.warn(\"Maximum Likelihood optimization failed to \"\n",
      "/Users/yyy/anaconda3/lib/python3.10/site-packages/statsmodels/base/model.py:607: ConvergenceWarning: Maximum Likelihood optimization failed to converge. Check mle_retvals\n",
      "  warnings.warn(\"Maximum Likelihood optimization failed to \"\n",
      "/Users/yyy/anaconda3/lib/python3.10/site-packages/statsmodels/tsa/statespace/sarimax.py:966: UserWarning: Non-stationary starting autoregressive parameters found. Using zeros as starting parameters.\n",
      "  warn('Non-stationary starting autoregressive parameters'\n",
      "/Users/yyy/anaconda3/lib/python3.10/site-packages/statsmodels/base/model.py:607: ConvergenceWarning: Maximum Likelihood optimization failed to converge. Check mle_retvals\n",
      "  warnings.warn(\"Maximum Likelihood optimization failed to \"\n",
      "/Users/yyy/anaconda3/lib/python3.10/site-packages/statsmodels/tsa/statespace/sarimax.py:978: UserWarning: Non-invertible starting MA parameters found. Using zeros as starting parameters.\n",
      "  warn('Non-invertible starting MA parameters found.'\n",
      "/Users/yyy/anaconda3/lib/python3.10/site-packages/statsmodels/tsa/statespace/sarimax.py:966: UserWarning: Non-stationary starting autoregressive parameters found. Using zeros as starting parameters.\n",
      "  warn('Non-stationary starting autoregressive parameters'\n",
      "/Users/yyy/anaconda3/lib/python3.10/site-packages/statsmodels/tsa/statespace/sarimax.py:978: UserWarning: Non-invertible starting MA parameters found. Using zeros as starting parameters.\n",
      "  warn('Non-invertible starting MA parameters found.'\n"
     ]
    },
    {
     "name": "stdout",
     "output_type": "stream",
     "text": [
      "Best ARIMA(2, 2, 2) model - AIC:1051.8394447805285\n"
     ]
    }
   ],
   "source": [
    "# Define the p, d and q parameters to take any value between 0 and 2\n",
    "p = d = q = range(0, 3)\n",
    "\n",
    "# Generate all different combinations of p, d and q triplets\n",
    "pdq = list(itertools.product(p, d, q))\n",
    "\n",
    "# Run a grid with pdq and seasonal pdq parameters calculated above and get the best AIC value\n",
    "best_aic = np.inf\n",
    "best_pdq = None\n",
    "temp_model = None\n",
    "\n",
    "for param in pdq:\n",
    "    try:\n",
    "        temp_model = sm.tsa.ARIMA(train, order=param)\n",
    "        results = temp_model.fit()\n",
    "        if results.aic < best_aic:\n",
    "            best_aic = results.aic\n",
    "            best_pdq = param\n",
    "    except:\n",
    "        continue\n",
    "\n",
    "print(\"Best ARIMA{} model - AIC:{}\".format(best_pdq, best_aic))"
   ]
  },
  {
   "cell_type": "code",
   "execution_count": 24,
   "id": "91e21778",
   "metadata": {},
   "outputs": [
    {
     "name": "stderr",
     "output_type": "stream",
     "text": [
      "/Users/yyy/anaconda3/lib/python3.10/site-packages/statsmodels/tsa/statespace/sarimax.py:966: UserWarning: Non-stationary starting autoregressive parameters found. Using zeros as starting parameters.\n",
      "  warn('Non-stationary starting autoregressive parameters'\n",
      "/Users/yyy/anaconda3/lib/python3.10/site-packages/statsmodels/tsa/statespace/sarimax.py:978: UserWarning: Non-invertible starting MA parameters found. Using zeros as starting parameters.\n",
      "  warn('Non-invertible starting MA parameters found.'\n"
     ]
    },
    {
     "name": "stdout",
     "output_type": "stream",
     "text": [
      "486.0540694059522\n"
     ]
    }
   ],
   "source": [
    "model_train_new = ARIMA(train, order=(2, 2, 2))\n",
    "result_train_new = model_train_new.fit()\n",
    "y_pred_new = result_train_new.predict(start=len(train), end=len(train)+len(test)-1)\n",
    "\n",
    "rmse_new = mean_squared_error(y_test, y_pred_new, squared=False)\n",
    "print(rmse_new)"
   ]
  },
  {
   "cell_type": "markdown",
   "id": "844e67fd",
   "metadata": {},
   "source": [
    "### Create validation set"
   ]
  },
  {
   "cell_type": "code",
   "execution_count": 25,
   "id": "3fc82165",
   "metadata": {},
   "outputs": [],
   "source": [
    "train_size = int(len(df_daily_data) * 0.6)\n",
    "val_size = int(len(df_daily_data) * 0.2)\n",
    "train, val, test = df_daily_data[0:train_size], df_daily_data[train_size:train_size+val_size], df_daily_data[train_size+val_size:len(df_daily_data)]"
   ]
  },
  {
   "cell_type": "code",
   "execution_count": 29,
   "id": "b6cb1522",
   "metadata": {},
   "outputs": [
    {
     "name": "stdout",
     "output_type": "stream",
     "text": [
      "1690.5592869674185\n"
     ]
    },
    {
     "name": "stderr",
     "output_type": "stream",
     "text": [
      "/Users/yyy/anaconda3/lib/python3.10/site-packages/statsmodels/tsa/statespace/sarimax.py:966: UserWarning: Non-stationary starting autoregressive parameters found. Using zeros as starting parameters.\n",
      "  warn('Non-stationary starting autoregressive parameters'\n",
      "/Users/yyy/anaconda3/lib/python3.10/site-packages/statsmodels/tsa/statespace/sarimax.py:978: UserWarning: Non-invertible starting MA parameters found. Using zeros as starting parameters.\n",
      "  warn('Non-invertible starting MA parameters found.'\n"
     ]
    }
   ],
   "source": [
    "# Train the model on the training set\n",
    "model_train = ARIMA(train, order=(2, 2, 2))\n",
    "result_train = model_train.fit()\n",
    "\n",
    "# Make predictions on the validation set and calculate RMSE\n",
    "val_pred = result_train.predict(start=len(train), end=len(train)+len(val)-1)\n",
    "val_rmse = sqrt(mean_squared_error(val, val_pred))\n",
    "\n",
    "# If the model's performance on the validation set is satisfactory, make predictions on the test set and calculate RMSE\n",
    "test_pred = result_train.predict(start=len(train)+len(val), end=len(df_daily_data)-1)\n",
    "test_rmse = sqrt(mean_squared_error(test, test_pred))\n",
    "print(test_rmse)"
   ]
  },
  {
   "cell_type": "code",
   "execution_count": 30,
   "id": "67f8a48b",
   "metadata": {},
   "outputs": [
    {
     "name": "stdout",
     "output_type": "stream",
     "text": [
      "668.652074845482\n"
     ]
    }
   ],
   "source": [
    "# For comparison\n",
    "\n",
    "model_train_comp = ARIMA(train, order=(1, 0, 0))\n",
    "result_train_comp = model_train_comp.fit()\n",
    "\n",
    "# Make predictions on the validation set and calculate RMSE\n",
    "val_pred_comp = result_train_comp.predict(start=len(train), end=len(train)+len(val)-1)\n",
    "val_rmse_comp = sqrt(mean_squared_error(val, val_pred_comp))\n",
    "\n",
    "# If the model's performance on the validation set is satisfactory, make predictions on the test set and calculate RMSE\n",
    "test_pred_comp = result_train_comp.predict(start=len(train)+len(val), end=len(df_daily_data)-1)\n",
    "test_rmse_comp = sqrt(mean_squared_error(test, test_pred_comp))\n",
    "print(test_rmse_comp)"
   ]
  },
  {
   "cell_type": "markdown",
   "id": "b1983124",
   "metadata": {},
   "source": [
    "## It's clear that the original model is better than the tuned one due to the overfitting for the latter one"
   ]
  },
  {
   "cell_type": "code",
   "execution_count": null,
   "id": "6c2d10d9",
   "metadata": {},
   "outputs": [],
   "source": []
  }
 ],
 "metadata": {
  "kernelspec": {
   "display_name": "Python 3",
   "language": "python",
   "name": "python3"
  },
  "language_info": {
   "codemirror_mode": {
    "name": "ipython",
    "version": 3
   },
   "file_extension": ".py",
   "mimetype": "text/x-python",
   "name": "python",
   "nbconvert_exporter": "python",
   "pygments_lexer": "ipython3",
   "version": "3.10.9"
  }
 },
 "nbformat": 4,
 "nbformat_minor": 5
}
